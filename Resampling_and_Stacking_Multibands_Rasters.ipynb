{
  "nbformat": 4,
  "nbformat_minor": 0,
  "metadata": {
    "colab": {
      "provenance": [],
      "machine_shape": "hm",
      "gpuType": "T4"
    },
    "kernelspec": {
      "name": "python3",
      "display_name": "Python 3"
    },
    "language_info": {
      "name": "python"
    },
    "accelerator": "GPU"
  },
  "cells": [
    {
      "cell_type": "code",
      "source": [
        "from google.colab import drive\n",
        "drive.mount('/content/drive')"
      ],
      "metadata": {
        "colab": {
          "base_uri": "https://localhost:8080/"
        },
        "id": "l8VT_QQSL7So",
        "outputId": "c08e90b5-099c-4e28-b5d8-6f94ddc74aee"
      },
      "execution_count": 1,
      "outputs": [
        {
          "output_type": "stream",
          "name": "stdout",
          "text": [
            "Mounted at /content/drive\n"
          ]
        }
      ]
    },
    {
      "cell_type": "markdown",
      "source": [
        "Reamostrando a imagem"
      ],
      "metadata": {
        "id": "DTgk7CXvMRDi"
      }
    },
    {
      "cell_type": "code",
      "source": [
        "!pip install rasterio"
      ],
      "metadata": {
        "colab": {
          "base_uri": "https://localhost:8080/"
        },
        "id": "ceRT6RL5M_sb",
        "outputId": "2c46c34b-33fd-4b52-ee1b-1955ec8ea698"
      },
      "execution_count": 2,
      "outputs": [
        {
          "output_type": "stream",
          "name": "stdout",
          "text": [
            "Collecting rasterio\n",
            "  Downloading rasterio-1.3.8-cp310-cp310-manylinux_2_17_x86_64.manylinux2014_x86_64.whl (21.3 MB)\n",
            "\u001b[2K     \u001b[90m━━━━━━━━━━━━━━━━━━━━━━━━━━━━━━━━━━━━━━━━\u001b[0m \u001b[32m21.3/21.3 MB\u001b[0m \u001b[31m51.5 MB/s\u001b[0m eta \u001b[36m0:00:00\u001b[0m\n",
            "\u001b[?25hCollecting affine (from rasterio)\n",
            "  Downloading affine-2.4.0-py3-none-any.whl (15 kB)\n",
            "Requirement already satisfied: attrs in /usr/local/lib/python3.10/dist-packages (from rasterio) (23.1.0)\n",
            "Requirement already satisfied: certifi in /usr/local/lib/python3.10/dist-packages (from rasterio) (2023.7.22)\n",
            "Requirement already satisfied: click>=4.0 in /usr/local/lib/python3.10/dist-packages (from rasterio) (8.1.7)\n",
            "Requirement already satisfied: cligj>=0.5 in /usr/local/lib/python3.10/dist-packages (from rasterio) (0.7.2)\n",
            "Requirement already satisfied: numpy>=1.18 in /usr/local/lib/python3.10/dist-packages (from rasterio) (1.23.5)\n",
            "Collecting snuggs>=1.4.1 (from rasterio)\n",
            "  Downloading snuggs-1.4.7-py3-none-any.whl (5.4 kB)\n",
            "Requirement already satisfied: click-plugins in /usr/local/lib/python3.10/dist-packages (from rasterio) (1.1.1)\n",
            "Requirement already satisfied: setuptools in /usr/local/lib/python3.10/dist-packages (from rasterio) (67.7.2)\n",
            "Requirement already satisfied: pyparsing>=2.1.6 in /usr/local/lib/python3.10/dist-packages (from snuggs>=1.4.1->rasterio) (3.1.1)\n",
            "Installing collected packages: snuggs, affine, rasterio\n",
            "Successfully installed affine-2.4.0 rasterio-1.3.8 snuggs-1.4.7\n"
          ]
        }
      ]
    },
    {
      "cell_type": "code",
      "source": [
        "import rasterio\n",
        "from rasterio.enums import Resampling\n",
        "\n",
        "# Caminhos para os arquivos\n",
        "path_vnir = '/content/drive/MyDrive/OmanChromiteResearch/WorldView/015961633010_01_P002_MUL/21MAY23065945-M2AS-015961633010_01_P002_ACOMP.TIF'\n",
        "path_swir = '/content/drive/MyDrive/OmanChromiteResearch/WorldView/015961633010_01_P001_SWR/21MAY23065946-A2AS-015961633010_01_P001_ACOMP.TIF'\n",
        "\n",
        "# Abrir os datasets\n",
        "with rasterio.open(path_vnir) as vnir, rasterio.open(path_swir) as swir:\n",
        "\n",
        "    # Calcular a resolução da imagem SWIR\n",
        "    swir_res = (swir.transform[0], -swir.transform[4])\n",
        "\n",
        "    # Novos metadados\n",
        "    new_meta = vnir.meta.copy()\n",
        "    new_meta.update({\n",
        "        'transform': vnir.transform * vnir.transform.scale((vnir.width / swir.width), (vnir.height / swir.height)),\n",
        "        'width': swir.width,\n",
        "        'height': swir.height,\n",
        "    })\n",
        "\n",
        "    # Reamostrar VNIR para a resolução de SWIR\n",
        "    with rasterio.open('vnir_resampled.tif', 'w', **new_meta) as vnir_resampled:\n",
        "        vnir_resampled.write(vnir.read(\n",
        "            out_shape=(vnir.count, swir.height, swir.width),\n",
        "            resampling=Resampling.bilinear\n",
        "        ))\n"
      ],
      "metadata": {
        "id": "5RyOETqwMUAI"
      },
      "execution_count": 3,
      "outputs": []
    },
    {
      "cell_type": "code",
      "execution_count": 4,
      "metadata": {
        "id": "yB21-V8TLwT-"
      },
      "outputs": [],
      "source": [
        "import numpy as np\n",
        "\n",
        "# Abrir as imagens reamostrada e SWIR\n",
        "with rasterio.open('vnir_resampled.tif') as vnir_resampled, rasterio.open(path_swir) as swir:\n",
        "\n",
        "    # Novos metadados\n",
        "    new_meta = vnir_resampled.meta.copy()\n",
        "    new_meta.update(count=vnir_resampled.count + swir.count)  # Atualizar o número de bandas\n",
        "\n",
        "    # Escrever novo arquivo com bandas concatenadas\n",
        "    with rasterio.open('stacked_image.tif', 'w', **new_meta) as stacked:\n",
        "        # Escrever bandas de VNIR\n",
        "        for idx in range(vnir_resampled.count):\n",
        "            stacked.write(vnir_resampled.read(idx + 1), idx + 1)\n",
        "\n",
        "        # Escrever bandas de SWIR\n",
        "        for idx in range(swir.count):\n",
        "            stacked.write(swir.read(idx + 1), vnir_resampled.count + idx + 1)\n"
      ]
    },
    {
      "cell_type": "code",
      "source": [
        "path = '/content/stacked_image.tif'"
      ],
      "metadata": {
        "id": "VpY2m-bcO_Vt"
      },
      "execution_count": 5,
      "outputs": []
    },
    {
      "cell_type": "code",
      "source": [
        "# Abrir o arquivo GeoTIFF\n",
        "with rasterio.open(path) as dataset:\n",
        "    # Imprimir metadados gerais\n",
        "    print(f\"Driver: {dataset.driver}\")\n",
        "    print(f\"Tamanho da imagem: {dataset.width}x{dataset.height}x{dataset.count}\")\n",
        "    print(f\"Sistema de coordenadas: {dataset.crs}\")\n",
        "    print(f\"Transformação: {dataset.transform}\")\n",
        "\n",
        "    # Metadados adicionais\n",
        "    metadata = dataset.meta\n",
        "    print(\"Metadados adicionais:\")\n",
        "    for key, value in metadata.items():\n",
        "        print(f\"  {key}: {value}\")\n",
        "\n",
        "    # Informações sobre as bandas\n",
        "    for i in range(dataset.count):\n",
        "        band = dataset.read(i + 1)\n",
        "        print(f\"Banda {i + 1}:\")\n",
        "        print(f\"  Tipo de dado: {dataset.dtypes[i]}\")\n",
        "        print(f\"  Valor mínimo: {band.min()}\")\n",
        "        print(f\"  Valor máximo: {band.max()}\")\n",
        "        print(f\"  NoData Value: {dataset.nodatavals[i]}\")\n",
        "\n",
        "    # Outros metadados\n",
        "    tags = dataset.tags()\n",
        "    if tags:\n",
        "        print(\"Outros metadados:\")\n",
        "        for key, value in tags.items():\n",
        "            print(f\"  {key}: {value}\")\n"
      ],
      "metadata": {
        "colab": {
          "base_uri": "https://localhost:8080/"
        },
        "id": "pxpQ8qgYO9n7",
        "outputId": "aa0e9889-d606-4ead-e7d3-36cf369fd794"
      },
      "execution_count": 6,
      "outputs": [
        {
          "output_type": "stream",
          "name": "stdout",
          "text": [
            "Driver: GTiff\n",
            "Tamanho da imagem: 3013x2523x16\n",
            "Sistema de coordenadas: EPSG:32640\n",
            "Transformação: | 3.70, 0.00, 416113.20|\n",
            "| 0.00,-3.70, 2712730.80|\n",
            "| 0.00, 0.00, 1.00|\n",
            "Metadados adicionais:\n",
            "  driver: GTiff\n",
            "  dtype: uint16\n",
            "  nodata: 0.0\n",
            "  width: 3013\n",
            "  height: 2523\n",
            "  count: 16\n",
            "  crs: EPSG:32640\n",
            "  transform: | 3.70, 0.00, 416113.20|\n",
            "| 0.00,-3.70, 2712730.80|\n",
            "| 0.00, 0.00, 1.00|\n",
            "Banda 1:\n",
            "  Tipo de dado: uint16\n",
            "  Valor mínimo: 0\n",
            "  Valor máximo: 5810\n",
            "  NoData Value: 0.0\n",
            "Banda 2:\n",
            "  Tipo de dado: uint16\n",
            "  Valor mínimo: 0\n",
            "  Valor máximo: 6594\n",
            "  NoData Value: 0.0\n",
            "Banda 3:\n",
            "  Tipo de dado: uint16\n",
            "  Valor mínimo: 0\n",
            "  Valor máximo: 6976\n",
            "  NoData Value: 0.0\n",
            "Banda 4:\n",
            "  Tipo de dado: uint16\n",
            "  Valor mínimo: 0\n",
            "  Valor máximo: 7505\n",
            "  NoData Value: 0.0\n",
            "Banda 5:\n",
            "  Tipo de dado: uint16\n",
            "  Valor mínimo: 0\n",
            "  Valor máximo: 7863\n",
            "  NoData Value: 0.0\n",
            "Banda 6:\n",
            "  Tipo de dado: uint16\n",
            "  Valor mínimo: 0\n",
            "  Valor máximo: 8327\n",
            "  NoData Value: 0.0\n",
            "Banda 7:\n",
            "  Tipo de dado: uint16\n",
            "  Valor mínimo: 0\n",
            "  Valor máximo: 8185\n",
            "  NoData Value: 0.0\n",
            "Banda 8:\n",
            "  Tipo de dado: uint16\n",
            "  Valor mínimo: 0\n",
            "  Valor máximo: 8188\n",
            "  NoData Value: 0.0\n",
            "Banda 9:\n",
            "  Tipo de dado: uint16\n",
            "  Valor mínimo: 0\n",
            "  Valor máximo: 7481\n",
            "  NoData Value: 0.0\n",
            "Banda 10:\n",
            "  Tipo de dado: uint16\n",
            "  Valor mínimo: 0\n",
            "  Valor máximo: 7327\n",
            "  NoData Value: 0.0\n",
            "Banda 11:\n",
            "  Tipo de dado: uint16\n",
            "  Valor mínimo: 0\n",
            "  Valor máximo: 7294\n",
            "  NoData Value: 0.0\n",
            "Banda 12:\n",
            "  Tipo de dado: uint16\n",
            "  Valor mínimo: 0\n",
            "  Valor máximo: 7957\n",
            "  NoData Value: 0.0\n",
            "Banda 13:\n",
            "  Tipo de dado: uint16\n",
            "  Valor mínimo: 0\n",
            "  Valor máximo: 7583\n",
            "  NoData Value: 0.0\n",
            "Banda 14:\n",
            "  Tipo de dado: uint16\n",
            "  Valor mínimo: 0\n",
            "  Valor máximo: 7489\n",
            "  NoData Value: 0.0\n",
            "Banda 15:\n",
            "  Tipo de dado: uint16\n",
            "  Valor mínimo: 0\n",
            "  Valor máximo: 6677\n",
            "  NoData Value: 0.0\n",
            "Banda 16:\n",
            "  Tipo de dado: uint16\n",
            "  Valor mínimo: 0\n",
            "  Valor máximo: 6583\n",
            "  NoData Value: 0.0\n",
            "Outros metadados:\n",
            "  AREA_OR_POINT: Area\n"
          ]
        }
      ]
    },
    {
      "cell_type": "code",
      "source": [],
      "metadata": {
        "id": "h5WcMAOJPDTP"
      },
      "execution_count": null,
      "outputs": []
    }
  ]
}